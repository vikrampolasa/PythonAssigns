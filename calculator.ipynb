{
 "cells": [
  {
   "cell_type": "code",
   "execution_count": null,
   "id": "b0e04788-898d-44ad-8977-8c52e9ad55f0",
   "metadata": {},
   "outputs": [],
   "source": [
    "continue_calc = True\n",
    "\n",
    "first_num = int(input(\"What's the first number?\"))\n",
    "\n",
    "while (continue_calc != False):\n",
    "    print(\"+\")\n",
    "    print(\"-\")\n",
    "    print(\"*\")\n",
    "    print(\"/\")\n",
    "    operation = input(\"Pick an operation:\")\n",
    "    \n",
    "    next_num = int(input(\"What's the next number?\"))\n",
    "    \n",
    "    if (operation == \"+\"):\n",
    "        result = first_num + next_num\n",
    "    elif (operation == \"-\"):\n",
    "        result = first_num - next_num\n",
    "    elif (operation == \"*\"):\n",
    "        result = first_num * next_num\n",
    "    elif (operation == \"/\"):\n",
    "        result = first_num / next_num        \n",
    "\n",
    "    print (f\"{first_num} {operation} {next_num} = {result}\")\n",
    "    print (f\"Type 'y' to continue calculating with {result}, or type 'n' to start new calulation or 'e' to exit:\")\n",
    "    cont_calc = input()\n",
    "\n",
    "    if (cont_calc == 'y'):\n",
    "        first_num = result\n",
    "    elif (cont_calc == 'n'):\n",
    "        first_num = int(input(\"What's the first number?\"))\n",
    "    elif (cont_calc == 'e'):\n",
    "        continue_calc = False"
   ]
  }
 ],
 "metadata": {
  "kernelspec": {
   "display_name": "Python 3 (ipykernel)",
   "language": "python",
   "name": "python3"
  },
  "language_info": {
   "codemirror_mode": {
    "name": "ipython",
    "version": 3
   },
   "file_extension": ".py",
   "mimetype": "text/x-python",
   "name": "python",
   "nbconvert_exporter": "python",
   "pygments_lexer": "ipython3",
   "version": "3.12.4"
  }
 },
 "nbformat": 4,
 "nbformat_minor": 5
}
