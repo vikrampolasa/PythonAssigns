{
 "cells": [
  {
   "cell_type": "code",
   "execution_count": 133,
   "id": "8db70d54-428a-4652-8182-48911d5d454f",
   "metadata": {},
   "outputs": [
    {
     "name": "stdout",
     "output_type": "stream",
     "text": [
      "Your cards: 8, A. Value is 9\n",
      "Dealer cards: Q, HIDDEN\n",
      "['8', 'A']\n"
     ]
    },
    {
     "name": "stdin",
     "output_type": "stream",
     "text": [
      "Type 'y' to get another card, type 'n' to pass:  y\n"
     ]
    },
    {
     "name": "stdout",
     "output_type": "stream",
     "text": [
      "['8', 'A', '6']\n"
     ]
    },
    {
     "name": "stdin",
     "output_type": "stream",
     "text": [
      "Type 'y' to get another card, type 'n' to pass:  y\n"
     ]
    },
    {
     "name": "stdout",
     "output_type": "stream",
     "text": [
      "['8', 'A', '6', '9']\n",
      "Dealer WON!\n",
      "Dealer: 12 -- ['Q', '2']\n",
      "Player: 24  --  ['8', 'A', '6', '9']\n"
     ]
    }
   ],
   "source": [
    "import random\n",
    "\n",
    "def add_cards(p_d_cards, pack):\n",
    "    random_index = random.randint(0, len(pack) - 1)\n",
    "    p_d_cards.append(pack[random_index])\n",
    "    del pack[random_index]\n",
    "\n",
    "def value_of_cards(p_d_cards):\n",
    "    card_value = {'A':1, '2':2, '3':3, '4':4, '5':5, '6':6, '7':7, '8':8, '9':9, '10':10, 'J':10, 'Q':10, 'K':10}\n",
    "    sum_card = 0\n",
    "    \n",
    "    for item in p_d_cards:\n",
    "        sum_card = sum_card + card_value[item]\n",
    "\n",
    "    return sum_card\n",
    "\n",
    "card = ['A', '2', '3', '4', '5', '6', '7', '8', '9', '10', 'J', 'Q', 'K']\n",
    "\n",
    "pack = 4 * card\n",
    "player_cards = []\n",
    "dealer_cards = []\n",
    "player_new_card = 'y'\n",
    "\n",
    "add_cards (player_cards, pack)\n",
    "add_cards (player_cards, pack)\n",
    "add_cards (dealer_cards, pack)\n",
    "add_cards (dealer_cards, pack)\n",
    "\n",
    "player_card_value = value_of_cards(player_cards)\n",
    "dealer_card_value = value_of_cards(dealer_cards)\n",
    "\n",
    "print(f\"Your cards: {player_cards[0]}, {player_cards[1]}. Value is {player_card_value}\")\n",
    "print(f\"Dealer cards: {dealer_cards[0]}, HIDDEN\")\n",
    "\n",
    "print(player_cards)\n",
    "\n",
    "while (player_new_card == 'y'):\n",
    "    player_new_card = input(\"Type 'y' to get another card, type 'n' to pass: \")\n",
    "    if (player_new_card == 'y'):\n",
    "        add_cards (player_cards, pack)\n",
    "        player_card_value = value_of_cards(player_cards)\n",
    "        print (player_cards)\n",
    "\n",
    "        if (player_card_value > 21):\n",
    "            break\n",
    "\n",
    "if (player_card_value > 21):\n",
    "    print (\"Dealer WON!\")\n",
    "else:\n",
    "    while (dealer_card_value < 17):\n",
    "        add_cards (dealer_cards, pack)\n",
    "        dealer_card_value = value_of_cards(dealer_cards)\n",
    "\n",
    "        if (dealer_card_value > 21):\n",
    "            print (\"Player WON!\")\n",
    "        elif (dealer_card_value > player_card_value):\n",
    "            print (\"Dealer WON!\")\n",
    "        elif (player_card_value > dealer_card_value):\n",
    "            print (\"Player WON!\")\n",
    "        elif (player_card_value == dealer_card_value):    \n",
    "            print (\"It's a TIE!\")\n",
    "            \n",
    "print (f\"Dealer: {dealer_card_value} -- {dealer_cards}\")\n",
    "print (f\"Player: {player_card_value}  --  {player_cards}\")\n"
   ]
  },
  {
   "cell_type": "code",
   "execution_count": null,
   "id": "da261678-9db9-42ba-b61e-6910af91e01f",
   "metadata": {},
   "outputs": [],
   "source": []
  }
 ],
 "metadata": {
  "kernelspec": {
   "display_name": "Python 3 (ipykernel)",
   "language": "python",
   "name": "python3"
  },
  "language_info": {
   "codemirror_mode": {
    "name": "ipython",
    "version": 3
   },
   "file_extension": ".py",
   "mimetype": "text/x-python",
   "name": "python",
   "nbconvert_exporter": "python",
   "pygments_lexer": "ipython3",
   "version": "3.12.4"
  }
 },
 "nbformat": 4,
 "nbformat_minor": 5
}
